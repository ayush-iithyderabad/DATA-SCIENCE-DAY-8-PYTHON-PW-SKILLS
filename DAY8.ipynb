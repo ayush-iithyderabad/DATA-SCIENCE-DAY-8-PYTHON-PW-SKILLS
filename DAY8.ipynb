{
 "cells": [
  {
   "cell_type": "code",
   "execution_count": 6,
   "id": "9409a2ef-0356-4ae6-9ce9-4eb240bc6c6c",
   "metadata": {},
   "outputs": [],
   "source": [
    "var={\"name\":\"ayush pratap singh\",\"phone\":6387300270,\"email id\":\"ayushpratap821@gmail.com\"}"
   ]
  },
  {
   "cell_type": "code",
   "execution_count": 7,
   "id": "9332b19f-ad1a-4790-8f14-758e29eab5d6",
   "metadata": {},
   "outputs": [
    {
     "name": "stdout",
     "output_type": "stream",
     "text": [
      "<class 'dict'>\n",
      "{'name': 'ayush pratap singh', 'phone': 6387300270, 'email id': 'ayushpratap821@gmail.com'}\n"
     ]
    }
   ],
   "source": [
    "print(type(var))\n",
    "print(var)"
   ]
  },
  {
   "cell_type": "code",
   "execution_count": 8,
   "id": "ad462f6e-47f7-4b83-8bd1-1771cf23f7c5",
   "metadata": {},
   "outputs": [],
   "source": [
    "## duplicate value is allowed but duplicate name is not aloowed "
   ]
  },
  {
   "cell_type": "code",
   "execution_count": 9,
   "id": "07d50415-1cc6-4d49-8a4d-643275173aed",
   "metadata": {},
   "outputs": [],
   "source": [
    "var2={'name':'ayushpratap','username':'ayushpratap'}"
   ]
  },
  {
   "cell_type": "code",
   "execution_count": 11,
   "id": "6597799a-2ce1-4229-9c67-6f2dba9eeb27",
   "metadata": {},
   "outputs": [
    {
     "name": "stdout",
     "output_type": "stream",
     "text": [
      "{'name': 'ayushpratap', 'username': 'ayushpratap'}\n",
      "<class 'dict'>\n"
     ]
    }
   ],
   "source": [
    "print(var2)\n",
    "print(type(var2))"
   ]
  },
  {
   "cell_type": "code",
   "execution_count": 18,
   "id": "43b02f4b-fcc2-481a-a692-22ebbcd21dff",
   "metadata": {},
   "outputs": [
    {
     "name": "stdout",
     "output_type": "stream",
     "text": [
      "ayush pratap singh\n"
     ]
    }
   ],
   "source": [
    "print(var[\"name\"])"
   ]
  },
  {
   "cell_type": "code",
   "execution_count": 19,
   "id": "1fd2c1b8-7819-460d-9a90-4e92cb21f2a0",
   "metadata": {},
   "outputs": [
    {
     "name": "stdout",
     "output_type": "stream",
     "text": [
      "6387300270\n"
     ]
    }
   ],
   "source": [
    "print(var[\"phone\"])"
   ]
  },
  {
   "cell_type": "code",
   "execution_count": 20,
   "id": "2951ec11-d22e-47f1-9d02-bd0e0c8e7e74",
   "metadata": {},
   "outputs": [
    {
     "name": "stdout",
     "output_type": "stream",
     "text": [
      "ayushpratap821@gmail.com\n"
     ]
    }
   ],
   "source": [
    "print(var[\"email id\"])"
   ]
  },
  {
   "cell_type": "code",
   "execution_count": 25,
   "id": "b8c214b3-3c15-4887-8b61-9ad643472353",
   "metadata": {},
   "outputs": [
    {
     "data": {
      "text/plain": [
       "{'phone': 6387300270, 'email id': 'ayushpratap821@gmail.com'}"
      ]
     },
     "execution_count": 25,
     "metadata": {},
     "output_type": "execute_result"
    }
   ],
   "source": [
    "var"
   ]
  },
  {
   "cell_type": "code",
   "execution_count": 28,
   "id": "83a5565b-eaea-4518-ac69-1e016726057c",
   "metadata": {},
   "outputs": [],
   "source": [
    "var3={'name':'ayush pratap singh','email id':'ayushthakur87806099@gmail.com','phone no':9616861195,\n",
    "      'branch':'energy science and engineering','college name':'iit hyderabad','father name':'mahendra singh',\n",
    "      'roll no':1816440037}"
   ]
  },
  {
   "cell_type": "code",
   "execution_count": 29,
   "id": "89c97792-b0d9-4f71-860d-aabe38d54828",
   "metadata": {},
   "outputs": [
    {
     "data": {
      "text/plain": [
       "{'name': 'ayush pratap singh',\n",
       " 'email id': 'ayushthakur87806099@gmail.com',\n",
       " 'phone no': 9616861195,\n",
       " 'branch': 'energy science and engineering',\n",
       " 'college name': 'iit hyderabad',\n",
       " 'father name': 'mahendra singh',\n",
       " 'roll no': 1816440037}"
      ]
     },
     "execution_count": 29,
     "metadata": {},
     "output_type": "execute_result"
    }
   ],
   "source": [
    "var3"
   ]
  },
  {
   "cell_type": "code",
   "execution_count": 30,
   "id": "e79daf09-4615-4773-b69f-6c14e98fc109",
   "metadata": {},
   "outputs": [
    {
     "data": {
      "text/plain": [
       "'ayush pratap singh'"
      ]
     },
     "execution_count": 30,
     "metadata": {},
     "output_type": "execute_result"
    }
   ],
   "source": [
    "var3.pop('name')"
   ]
  },
  {
   "cell_type": "code",
   "execution_count": 31,
   "id": "3aa5ee53-4448-4707-8022-da6a4e3da4cf",
   "metadata": {},
   "outputs": [
    {
     "name": "stdout",
     "output_type": "stream",
     "text": [
      "{'email id': 'ayushthakur87806099@gmail.com', 'phone no': 9616861195, 'branch': 'energy science and engineering', 'college name': 'iit hyderabad', 'father name': 'mahendra singh', 'roll no': 1816440037}\n"
     ]
    }
   ],
   "source": [
    "print(var3)"
   ]
  },
  {
   "cell_type": "code",
   "execution_count": 32,
   "id": "2782236d-098f-4884-93ef-477688e0768f",
   "metadata": {},
   "outputs": [
    {
     "data": {
      "text/plain": [
       "'iit hyderabad'"
      ]
     },
     "execution_count": 32,
     "metadata": {},
     "output_type": "execute_result"
    }
   ],
   "source": [
    "var3.get(\"college name\")"
   ]
  },
  {
   "cell_type": "code",
   "execution_count": 33,
   "id": "d2364eef-b871-46d7-b850-85c9c7b7b8d6",
   "metadata": {},
   "outputs": [
    {
     "name": "stdout",
     "output_type": "stream",
     "text": [
      "{'email id': 'ayushthakur87806099@gmail.com', 'phone no': 9616861195, 'branch': 'energy science and engineering', 'college name': 'iit hyderabad', 'father name': 'mahendra singh', 'roll no': 1816440037}\n"
     ]
    }
   ],
   "source": [
    "print(var3)"
   ]
  },
  {
   "cell_type": "code",
   "execution_count": 34,
   "id": "932d820f-09dd-468a-8aa0-4891ff3ec784",
   "metadata": {},
   "outputs": [
    {
     "name": "stdout",
     "output_type": "stream",
     "text": [
      "dict_keys(['email id', 'phone no', 'branch', 'college name', 'father name', 'roll no'])\n"
     ]
    }
   ],
   "source": [
    "print(var3.keys())"
   ]
  },
  {
   "cell_type": "code",
   "execution_count": 35,
   "id": "b4019738-980c-437e-9636-f19ea17f878a",
   "metadata": {},
   "outputs": [
    {
     "name": "stdout",
     "output_type": "stream",
     "text": [
      "dict_values(['ayushthakur87806099@gmail.com', 9616861195, 'energy science and engineering', 'iit hyderabad', 'mahendra singh', 1816440037])\n"
     ]
    }
   ],
   "source": [
    "print(var3.values())"
   ]
  },
  {
   "cell_type": "code",
   "execution_count": 36,
   "id": "49792024-6727-4594-b46c-e7d1b0f40d85",
   "metadata": {},
   "outputs": [
    {
     "name": "stdout",
     "output_type": "stream",
     "text": [
      "dict_items([('email id', 'ayushthakur87806099@gmail.com'), ('phone no', 9616861195), ('branch', 'energy science and engineering'), ('college name', 'iit hyderabad'), ('father name', 'mahendra singh'), ('roll no', 1816440037)])\n"
     ]
    }
   ],
   "source": [
    "print(var3.items())"
   ]
  },
  {
   "cell_type": "code",
   "execution_count": 37,
   "id": "e1fb7082-5875-4ce7-8c49-70f1092618fa",
   "metadata": {},
   "outputs": [
    {
     "name": "stdout",
     "output_type": "stream",
     "text": [
      "email id - ayushthakur87806099@gmail.com\n",
      "phone no - 9616861195\n",
      "branch - energy science and engineering\n",
      "college name - iit hyderabad\n",
      "father name - mahendra singh\n",
      "roll no - 1816440037\n"
     ]
    }
   ],
   "source": [
    "for key,values in var3.items():\n",
    "    print(key,values,sep=\" - \")"
   ]
  },
  {
   "cell_type": "code",
   "execution_count": null,
   "id": "92b89979-b65f-4c4d-b207-36f94a30342f",
   "metadata": {},
   "outputs": [],
   "source": []
  }
 ],
 "metadata": {
  "kernelspec": {
   "display_name": "Python 3 (ipykernel)",
   "language": "python",
   "name": "python3"
  },
  "language_info": {
   "codemirror_mode": {
    "name": "ipython",
    "version": 3
   },
   "file_extension": ".py",
   "mimetype": "text/x-python",
   "name": "python",
   "nbconvert_exporter": "python",
   "pygments_lexer": "ipython3",
   "version": "3.10.8"
  }
 },
 "nbformat": 4,
 "nbformat_minor": 5
}
